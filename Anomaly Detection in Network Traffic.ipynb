{
 "cells": [
  {
   "cell_type": "markdown",
   "id": "51a69c20-e00d-4a45-8503-3139267adef3",
   "metadata": {
    "id": "51a69c20-e00d-4a45-8503-3139267adef3"
   },
   "source": [
    "# Libraries Setup"
   ]
  },
  {
   "cell_type": "code",
   "execution_count": 135,
   "id": "d1fb8271-d0a5-4328-81d4-e6475507c9c1",
   "metadata": {
    "id": "d1fb8271-d0a5-4328-81d4-e6475507c9c1",
    "outputId": "4ebdd3cc-cb12-433b-d97b-68f29f818600"
   },
   "outputs": [
    {
     "name": "stdout",
     "output_type": "stream",
     "text": [
      "Requirement already satisfied: numpy in c:\\programdata\\anaconda3\\lib\\site-packages (1.24.3)\n",
      "Requirement already satisfied: pandas in c:\\programdata\\anaconda3\\lib\\site-packages (2.0.3)\n",
      "Requirement already satisfied: scikit-learn in c:\\programdata\\anaconda3\\lib\\site-packages (1.3.0)\n",
      "Requirement already satisfied: matplotlib in c:\\programdata\\anaconda3\\lib\\site-packages (3.7.2)\n",
      "Requirement already satisfied: tensorflow in c:\\programdata\\anaconda3\\lib\\site-packages (2.13.0)\n",
      "Requirement already satisfied: keras in c:\\programdata\\anaconda3\\lib\\site-packages (2.13.1)\n",
      "Requirement already satisfied: python-dateutil>=2.8.2 in c:\\programdata\\anaconda3\\lib\\site-packages (from pandas) (2.8.2)\n",
      "Requirement already satisfied: pytz>=2020.1 in c:\\programdata\\anaconda3\\lib\\site-packages (from pandas) (2023.3.post1)\n",
      "Requirement already satisfied: tzdata>=2022.1 in c:\\programdata\\anaconda3\\lib\\site-packages (from pandas) (2023.3)\n",
      "Requirement already satisfied: scipy>=1.5.0 in c:\\programdata\\anaconda3\\lib\\site-packages (from scikit-learn) (1.9.3)\n",
      "Requirement already satisfied: joblib>=1.1.1 in c:\\programdata\\anaconda3\\lib\\site-packages (from scikit-learn) (1.2.0)\n",
      "Requirement already satisfied: threadpoolctl>=2.0.0 in c:\\programdata\\anaconda3\\lib\\site-packages (from scikit-learn) (3.1.0)\n",
      "Requirement already satisfied: contourpy>=1.0.1 in c:\\programdata\\anaconda3\\lib\\site-packages (from matplotlib) (1.0.5)\n",
      "Requirement already satisfied: cycler>=0.10 in c:\\programdata\\anaconda3\\lib\\site-packages (from matplotlib) (0.11.0)\n",
      "Requirement already satisfied: fonttools>=4.22.0 in c:\\programdata\\anaconda3\\lib\\site-packages (from matplotlib) (4.25.0)\n",
      "Requirement already satisfied: kiwisolver>=1.0.1 in c:\\programdata\\anaconda3\\lib\\site-packages (from matplotlib) (1.4.4)\n",
      "Requirement already satisfied: packaging>=20.0 in c:\\programdata\\anaconda3\\lib\\site-packages (from matplotlib) (23.1)\n",
      "Requirement already satisfied: pillow>=6.2.0 in c:\\programdata\\anaconda3\\lib\\site-packages (from matplotlib) (10.0.1)\n",
      "Requirement already satisfied: pyparsing<3.1,>=2.3.1 in c:\\programdata\\anaconda3\\lib\\site-packages (from matplotlib) (3.0.9)\n",
      "Requirement already satisfied: importlib-resources>=3.2.0 in c:\\programdata\\anaconda3\\lib\\site-packages (from matplotlib) (6.1.1)\n",
      "Requirement already satisfied: tensorflow-intel==2.13.0 in c:\\programdata\\anaconda3\\lib\\site-packages (from tensorflow) (2.13.0)\n",
      "Requirement already satisfied: absl-py>=1.0.0 in c:\\programdata\\anaconda3\\lib\\site-packages (from tensorflow-intel==2.13.0->tensorflow) (2.0.0)\n",
      "Requirement already satisfied: astunparse>=1.6.0 in c:\\programdata\\anaconda3\\lib\\site-packages (from tensorflow-intel==2.13.0->tensorflow) (1.6.3)\n",
      "Requirement already satisfied: flatbuffers>=23.1.21 in c:\\programdata\\anaconda3\\lib\\site-packages (from tensorflow-intel==2.13.0->tensorflow) (23.5.26)\n",
      "Requirement already satisfied: gast<=0.4.0,>=0.2.1 in c:\\programdata\\anaconda3\\lib\\site-packages (from tensorflow-intel==2.13.0->tensorflow) (0.4.0)\n",
      "Requirement already satisfied: google-pasta>=0.1.1 in c:\\programdata\\anaconda3\\lib\\site-packages (from tensorflow-intel==2.13.0->tensorflow) (0.2.0)\n",
      "Requirement already satisfied: h5py>=2.9.0 in c:\\programdata\\anaconda3\\lib\\site-packages (from tensorflow-intel==2.13.0->tensorflow) (3.9.0)\n",
      "Requirement already satisfied: libclang>=13.0.0 in c:\\programdata\\anaconda3\\lib\\site-packages (from tensorflow-intel==2.13.0->tensorflow) (16.0.6)\n",
      "Requirement already satisfied: opt-einsum>=2.3.2 in c:\\programdata\\anaconda3\\lib\\site-packages (from tensorflow-intel==2.13.0->tensorflow) (3.3.0)\n",
      "Requirement already satisfied: protobuf!=4.21.0,!=4.21.1,!=4.21.2,!=4.21.3,!=4.21.4,!=4.21.5,<5.0.0dev,>=3.20.3 in c:\\programdata\\anaconda3\\lib\\site-packages (from tensorflow-intel==2.13.0->tensorflow) (4.25.1)\n",
      "Requirement already satisfied: setuptools in c:\\programdata\\anaconda3\\lib\\site-packages (from tensorflow-intel==2.13.0->tensorflow) (70.1.1)\n",
      "Requirement already satisfied: six>=1.12.0 in c:\\programdata\\anaconda3\\lib\\site-packages (from tensorflow-intel==2.13.0->tensorflow) (1.16.0)\n",
      "Requirement already satisfied: termcolor>=1.1.0 in c:\\programdata\\anaconda3\\lib\\site-packages (from tensorflow-intel==2.13.0->tensorflow) (2.4.0)\n",
      "Requirement already satisfied: typing-extensions<4.6.0,>=3.6.6 in c:\\programdata\\anaconda3\\lib\\site-packages (from tensorflow-intel==2.13.0->tensorflow) (4.5.0)\n",
      "Requirement already satisfied: wrapt>=1.11.0 in c:\\programdata\\anaconda3\\lib\\site-packages (from tensorflow-intel==2.13.0->tensorflow) (1.14.1)\n",
      "Requirement already satisfied: grpcio<2.0,>=1.24.3 in c:\\programdata\\anaconda3\\lib\\site-packages (from tensorflow-intel==2.13.0->tensorflow) (1.60.0)\n",
      "Requirement already satisfied: tensorboard<2.14,>=2.13 in c:\\programdata\\anaconda3\\lib\\site-packages (from tensorflow-intel==2.13.0->tensorflow) (2.13.0)\n",
      "Requirement already satisfied: tensorflow-estimator<2.14,>=2.13.0 in c:\\programdata\\anaconda3\\lib\\site-packages (from tensorflow-intel==2.13.0->tensorflow) (2.13.0)\n",
      "Requirement already satisfied: tensorflow-io-gcs-filesystem>=0.23.1 in c:\\programdata\\anaconda3\\lib\\site-packages (from tensorflow-intel==2.13.0->tensorflow) (0.31.0)\n",
      "Requirement already satisfied: zipp>=3.1.0 in c:\\programdata\\anaconda3\\lib\\site-packages (from importlib-resources>=3.2.0->matplotlib) (3.17.0)\n",
      "Requirement already satisfied: wheel<1.0,>=0.23.0 in c:\\programdata\\anaconda3\\lib\\site-packages (from astunparse>=1.6.0->tensorflow-intel==2.13.0->tensorflow) (0.43.0)\n",
      "Requirement already satisfied: google-auth<3,>=1.6.3 in c:\\programdata\\anaconda3\\lib\\site-packages (from tensorboard<2.14,>=2.13->tensorflow-intel==2.13.0->tensorflow) (2.26.1)\n",
      "Requirement already satisfied: google-auth-oauthlib<1.1,>=0.5 in c:\\programdata\\anaconda3\\lib\\site-packages (from tensorboard<2.14,>=2.13->tensorflow-intel==2.13.0->tensorflow) (1.0.0)\n",
      "Requirement already satisfied: markdown>=2.6.8 in c:\\programdata\\anaconda3\\lib\\site-packages (from tensorboard<2.14,>=2.13->tensorflow-intel==2.13.0->tensorflow) (3.4.1)\n",
      "Requirement already satisfied: requests<3,>=2.21.0 in c:\\programdata\\anaconda3\\lib\\site-packages (from tensorboard<2.14,>=2.13->tensorflow-intel==2.13.0->tensorflow) (2.31.0)\n",
      "Requirement already satisfied: tensorboard-data-server<0.8.0,>=0.7.0 in c:\\programdata\\anaconda3\\lib\\site-packages (from tensorboard<2.14,>=2.13->tensorflow-intel==2.13.0->tensorflow) (0.7.2)\n",
      "Requirement already satisfied: werkzeug>=1.0.1 in c:\\programdata\\anaconda3\\lib\\site-packages (from tensorboard<2.14,>=2.13->tensorflow-intel==2.13.0->tensorflow) (2.2.3)\n",
      "Requirement already satisfied: cachetools<6.0,>=2.0.0 in c:\\programdata\\anaconda3\\lib\\site-packages (from google-auth<3,>=1.6.3->tensorboard<2.14,>=2.13->tensorflow-intel==2.13.0->tensorflow) (5.3.2)\n",
      "Requirement already satisfied: pyasn1-modules>=0.2.1 in c:\\programdata\\anaconda3\\lib\\site-packages (from google-auth<3,>=1.6.3->tensorboard<2.14,>=2.13->tensorflow-intel==2.13.0->tensorflow) (0.2.8)\n",
      "Requirement already satisfied: rsa<5,>=3.1.4 in c:\\programdata\\anaconda3\\lib\\site-packages (from google-auth<3,>=1.6.3->tensorboard<2.14,>=2.13->tensorflow-intel==2.13.0->tensorflow) (4.9)\n",
      "Requirement already satisfied: requests-oauthlib>=0.7.0 in c:\\programdata\\anaconda3\\lib\\site-packages (from google-auth-oauthlib<1.1,>=0.5->tensorboard<2.14,>=2.13->tensorflow-intel==2.13.0->tensorflow) (1.3.1)\n",
      "Requirement already satisfied: importlib-metadata>=4.4 in c:\\programdata\\anaconda3\\lib\\site-packages (from markdown>=2.6.8->tensorboard<2.14,>=2.13->tensorflow-intel==2.13.0->tensorflow) (7.0.0)\n",
      "Requirement already satisfied: charset-normalizer<4,>=2 in c:\\programdata\\anaconda3\\lib\\site-packages (from requests<3,>=2.21.0->tensorboard<2.14,>=2.13->tensorflow-intel==2.13.0->tensorflow) (2.0.4)\n",
      "Requirement already satisfied: idna<4,>=2.5 in c:\\programdata\\anaconda3\\lib\\site-packages (from requests<3,>=2.21.0->tensorboard<2.14,>=2.13->tensorflow-intel==2.13.0->tensorflow) (3.4)\n",
      "Requirement already satisfied: urllib3<3,>=1.21.1 in c:\\programdata\\anaconda3\\lib\\site-packages (from requests<3,>=2.21.0->tensorboard<2.14,>=2.13->tensorflow-intel==2.13.0->tensorflow) (1.26.18)\n",
      "Requirement already satisfied: certifi>=2017.4.17 in c:\\programdata\\anaconda3\\lib\\site-packages (from requests<3,>=2.21.0->tensorboard<2.14,>=2.13->tensorflow-intel==2.13.0->tensorflow) (2023.11.17)\n",
      "Requirement already satisfied: MarkupSafe>=2.1.1 in c:\\programdata\\anaconda3\\lib\\site-packages (from werkzeug>=1.0.1->tensorboard<2.14,>=2.13->tensorflow-intel==2.13.0->tensorflow) (2.1.3)\n",
      "Requirement already satisfied: pyasn1<0.5.0,>=0.4.6 in c:\\programdata\\anaconda3\\lib\\site-packages (from pyasn1-modules>=0.2.1->google-auth<3,>=1.6.3->tensorboard<2.14,>=2.13->tensorflow-intel==2.13.0->tensorflow) (0.4.8)\n",
      "Requirement already satisfied: oauthlib>=3.0.0 in c:\\programdata\\anaconda3\\lib\\site-packages (from requests-oauthlib>=0.7.0->google-auth-oauthlib<1.1,>=0.5->tensorboard<2.14,>=2.13->tensorflow-intel==2.13.0->tensorflow) (3.2.2)\n"
     ]
    }
   ],
   "source": [
    "# Install required libraries\n",
    "!pip install numpy pandas scikit-learn matplotlib tensorflow keras"
   ]
  },
  {
   "cell_type": "code",
   "execution_count": 136,
   "id": "8d971e6a-692c-4578-b13c-0ab55b079a76",
   "metadata": {
    "id": "8d971e6a-692c-4578-b13c-0ab55b079a76"
   },
   "outputs": [],
   "source": [
    "# Import libraries\n",
    "import numpy as np\n",
    "import pandas as pd\n",
    "from sklearn.model_selection import train_test_split, GridSearchCV\n",
    "from sklearn.preprocessing import StandardScaler, OneHotEncoder\n",
    "from sklearn.compose import ColumnTransformer\n",
    "from sklearn.ensemble import IsolationForest\n",
    "from sklearn.svm import OneClassSVM\n",
    "from sklearn.cluster import DBSCAN\n",
    "from sklearn.metrics import classification_report, make_scorer, confusion_matrix, roc_curve, auc\n",
    "from sklearn.decomposition import TruncatedSVD\n",
    "import tensorflow as tf\n",
    "from tensorflow.keras.models import Sequential\n",
    "from tensorflow.keras.layers import LSTM, Dense\n",
    "from tensorflow.keras.losses import BinaryCrossentropy\n",
    "import matplotlib.pyplot as plt\n",
    "import seaborn as sns\n",
    "from scipy.sparse import csr_matrix"
   ]
  },
  {
   "cell_type": "markdown",
   "id": "5b5de3d9-e6a9-4184-a256-5d0eaff70551",
   "metadata": {
    "id": "5b5de3d9-e6a9-4184-a256-5d0eaff70551"
   },
   "source": [
    "# Data Loading and Preprocessing"
   ]
  },
  {
   "cell_type": "markdown",
   "id": "e3df336c-166a-4bd4-8fe1-87b0e1946887",
   "metadata": {},
   "source": [
    "## Training and Test Data"
   ]
  },
  {
   "cell_type": "code",
   "execution_count": 137,
   "id": "dd412fb0-1bb7-4f7b-a004-7dfe2034ef87",
   "metadata": {
    "id": "dd412fb0-1bb7-4f7b-a004-7dfe2034ef87"
   },
   "outputs": [],
   "source": [
    "ROOT ='data/'"
   ]
  },
  {
   "cell_type": "code",
   "execution_count": 138,
   "id": "81eb5b98-9a11-490b-a2ab-db7bba141196",
   "metadata": {
    "id": "81eb5b98-9a11-490b-a2ab-db7bba141196"
   },
   "outputs": [],
   "source": [
    "# Load the dataset\n",
    "train_url = ROOT + 'UNSW_NB15_training-set.parquet'\n",
    "test_url = ROOT + 'UNSW_NB15_testing-set.parquet'\n",
    "\n",
    "train_data = pd.read_parquet(train_url)\n",
    "test_data = pd.read_parquet(test_url)"
   ]
  },
  {
   "cell_type": "code",
   "execution_count": 139,
   "id": "a3049813-8766-4979-8438-956ece898072",
   "metadata": {
    "colab": {
     "base_uri": "https://localhost:8080/"
    },
    "id": "a3049813-8766-4979-8438-956ece898072",
    "outputId": "3da4aa02-2769-4756-bfcd-d3ab013c3f62"
   },
   "outputs": [
    {
     "name": "stdout",
     "output_type": "stream",
     "text": [
      "        dur proto service state  spkts  dpkts  sbytes  dbytes          rate  \\\n",
      "0  0.000011   udp       -   INT      2      0     496       0   90909.09375   \n",
      "1  0.000008   udp       -   INT      2      0    1762       0  125000.00000   \n",
      "2  0.000005   udp       -   INT      2      0    1068       0  200000.00000   \n",
      "3  0.000006   udp       -   INT      2      0     900       0  166666.65625   \n",
      "4  0.000010   udp       -   INT      2      0    2126       0  100000.00000   \n",
      "\n",
      "         sload  ...  trans_depth  response_body_len  ct_src_dport_ltm  \\\n",
      "0  180363632.0  ...            0                  0                 1   \n",
      "1  881000000.0  ...            0                  0                 1   \n",
      "2  854400000.0  ...            0                  0                 1   \n",
      "3  600000000.0  ...            0                  0                 2   \n",
      "4  850400000.0  ...            0                  0                 2   \n",
      "\n",
      "   ct_dst_sport_ltm  is_ftp_login  ct_ftp_cmd  ct_flw_http_mthd  \\\n",
      "0                 1             0           0                 0   \n",
      "1                 1             0           0                 0   \n",
      "2                 1             0           0                 0   \n",
      "3                 1             0           0                 0   \n",
      "4                 1             0           0                 0   \n",
      "\n",
      "   is_sm_ips_ports  attack_cat  label  \n",
      "0                0      Normal      0  \n",
      "1                0      Normal      0  \n",
      "2                0      Normal      0  \n",
      "3                0      Normal      0  \n",
      "4                0      Normal      0  \n",
      "\n",
      "[5 rows x 36 columns]\n"
     ]
    }
   ],
   "source": [
    "# Inspect the dataset\n",
    "print(train_data.head())"
   ]
  },
  {
   "cell_type": "code",
   "execution_count": 140,
   "id": "62b23d02-b5f6-406d-80dd-d74b2c944dd5",
   "metadata": {
    "colab": {
     "base_uri": "https://localhost:8080/",
     "height": 444
    },
    "id": "62b23d02-b5f6-406d-80dd-d74b2c944dd5",
    "outputId": "9fac14f9-ab64-451c-c6c2-107fda5ab2ca"
   },
   "outputs": [
    {
     "data": {
      "text/html": [
       "<div>\n",
       "<style scoped>\n",
       "    .dataframe tbody tr th:only-of-type {\n",
       "        vertical-align: middle;\n",
       "    }\n",
       "\n",
       "    .dataframe tbody tr th {\n",
       "        vertical-align: top;\n",
       "    }\n",
       "\n",
       "    .dataframe thead th {\n",
       "        text-align: right;\n",
       "    }\n",
       "</style>\n",
       "<table border=\"1\" class=\"dataframe\">\n",
       "  <thead>\n",
       "    <tr style=\"text-align: right;\">\n",
       "      <th></th>\n",
       "      <th>dur</th>\n",
       "      <th>proto</th>\n",
       "      <th>service</th>\n",
       "      <th>state</th>\n",
       "      <th>spkts</th>\n",
       "      <th>dpkts</th>\n",
       "      <th>sbytes</th>\n",
       "      <th>dbytes</th>\n",
       "      <th>rate</th>\n",
       "      <th>sload</th>\n",
       "      <th>...</th>\n",
       "      <th>trans_depth</th>\n",
       "      <th>response_body_len</th>\n",
       "      <th>ct_src_dport_ltm</th>\n",
       "      <th>ct_dst_sport_ltm</th>\n",
       "      <th>is_ftp_login</th>\n",
       "      <th>ct_ftp_cmd</th>\n",
       "      <th>ct_flw_http_mthd</th>\n",
       "      <th>is_sm_ips_ports</th>\n",
       "      <th>attack_cat</th>\n",
       "      <th>label</th>\n",
       "    </tr>\n",
       "  </thead>\n",
       "  <tbody>\n",
       "    <tr>\n",
       "      <th>0</th>\n",
       "      <td>0.000011</td>\n",
       "      <td>udp</td>\n",
       "      <td>-</td>\n",
       "      <td>INT</td>\n",
       "      <td>2</td>\n",
       "      <td>0</td>\n",
       "      <td>496</td>\n",
       "      <td>0</td>\n",
       "      <td>90909.093750</td>\n",
       "      <td>1.803636e+08</td>\n",
       "      <td>...</td>\n",
       "      <td>0</td>\n",
       "      <td>0</td>\n",
       "      <td>1</td>\n",
       "      <td>1</td>\n",
       "      <td>0</td>\n",
       "      <td>0</td>\n",
       "      <td>0</td>\n",
       "      <td>0</td>\n",
       "      <td>Normal</td>\n",
       "      <td>0</td>\n",
       "    </tr>\n",
       "    <tr>\n",
       "      <th>1</th>\n",
       "      <td>0.000008</td>\n",
       "      <td>udp</td>\n",
       "      <td>-</td>\n",
       "      <td>INT</td>\n",
       "      <td>2</td>\n",
       "      <td>0</td>\n",
       "      <td>1762</td>\n",
       "      <td>0</td>\n",
       "      <td>125000.000000</td>\n",
       "      <td>8.810000e+08</td>\n",
       "      <td>...</td>\n",
       "      <td>0</td>\n",
       "      <td>0</td>\n",
       "      <td>1</td>\n",
       "      <td>1</td>\n",
       "      <td>0</td>\n",
       "      <td>0</td>\n",
       "      <td>0</td>\n",
       "      <td>0</td>\n",
       "      <td>Normal</td>\n",
       "      <td>0</td>\n",
       "    </tr>\n",
       "    <tr>\n",
       "      <th>2</th>\n",
       "      <td>0.000005</td>\n",
       "      <td>udp</td>\n",
       "      <td>-</td>\n",
       "      <td>INT</td>\n",
       "      <td>2</td>\n",
       "      <td>0</td>\n",
       "      <td>1068</td>\n",
       "      <td>0</td>\n",
       "      <td>200000.000000</td>\n",
       "      <td>8.544000e+08</td>\n",
       "      <td>...</td>\n",
       "      <td>0</td>\n",
       "      <td>0</td>\n",
       "      <td>1</td>\n",
       "      <td>1</td>\n",
       "      <td>0</td>\n",
       "      <td>0</td>\n",
       "      <td>0</td>\n",
       "      <td>0</td>\n",
       "      <td>Normal</td>\n",
       "      <td>0</td>\n",
       "    </tr>\n",
       "    <tr>\n",
       "      <th>3</th>\n",
       "      <td>0.000006</td>\n",
       "      <td>udp</td>\n",
       "      <td>-</td>\n",
       "      <td>INT</td>\n",
       "      <td>2</td>\n",
       "      <td>0</td>\n",
       "      <td>900</td>\n",
       "      <td>0</td>\n",
       "      <td>166666.656250</td>\n",
       "      <td>6.000000e+08</td>\n",
       "      <td>...</td>\n",
       "      <td>0</td>\n",
       "      <td>0</td>\n",
       "      <td>2</td>\n",
       "      <td>1</td>\n",
       "      <td>0</td>\n",
       "      <td>0</td>\n",
       "      <td>0</td>\n",
       "      <td>0</td>\n",
       "      <td>Normal</td>\n",
       "      <td>0</td>\n",
       "    </tr>\n",
       "    <tr>\n",
       "      <th>4</th>\n",
       "      <td>0.000010</td>\n",
       "      <td>udp</td>\n",
       "      <td>-</td>\n",
       "      <td>INT</td>\n",
       "      <td>2</td>\n",
       "      <td>0</td>\n",
       "      <td>2126</td>\n",
       "      <td>0</td>\n",
       "      <td>100000.000000</td>\n",
       "      <td>8.504000e+08</td>\n",
       "      <td>...</td>\n",
       "      <td>0</td>\n",
       "      <td>0</td>\n",
       "      <td>2</td>\n",
       "      <td>1</td>\n",
       "      <td>0</td>\n",
       "      <td>0</td>\n",
       "      <td>0</td>\n",
       "      <td>0</td>\n",
       "      <td>Normal</td>\n",
       "      <td>0</td>\n",
       "    </tr>\n",
       "    <tr>\n",
       "      <th>...</th>\n",
       "      <td>...</td>\n",
       "      <td>...</td>\n",
       "      <td>...</td>\n",
       "      <td>...</td>\n",
       "      <td>...</td>\n",
       "      <td>...</td>\n",
       "      <td>...</td>\n",
       "      <td>...</td>\n",
       "      <td>...</td>\n",
       "      <td>...</td>\n",
       "      <td>...</td>\n",
       "      <td>...</td>\n",
       "      <td>...</td>\n",
       "      <td>...</td>\n",
       "      <td>...</td>\n",
       "      <td>...</td>\n",
       "      <td>...</td>\n",
       "      <td>...</td>\n",
       "      <td>...</td>\n",
       "      <td>...</td>\n",
       "      <td>...</td>\n",
       "    </tr>\n",
       "    <tr>\n",
       "      <th>82327</th>\n",
       "      <td>0.000005</td>\n",
       "      <td>udp</td>\n",
       "      <td>-</td>\n",
       "      <td>INT</td>\n",
       "      <td>2</td>\n",
       "      <td>0</td>\n",
       "      <td>104</td>\n",
       "      <td>0</td>\n",
       "      <td>200000.000000</td>\n",
       "      <td>8.320000e+07</td>\n",
       "      <td>...</td>\n",
       "      <td>0</td>\n",
       "      <td>0</td>\n",
       "      <td>1</td>\n",
       "      <td>1</td>\n",
       "      <td>0</td>\n",
       "      <td>0</td>\n",
       "      <td>0</td>\n",
       "      <td>0</td>\n",
       "      <td>Normal</td>\n",
       "      <td>0</td>\n",
       "    </tr>\n",
       "    <tr>\n",
       "      <th>82328</th>\n",
       "      <td>1.106101</td>\n",
       "      <td>tcp</td>\n",
       "      <td>-</td>\n",
       "      <td>FIN</td>\n",
       "      <td>20</td>\n",
       "      <td>8</td>\n",
       "      <td>18062</td>\n",
       "      <td>354</td>\n",
       "      <td>24.410067</td>\n",
       "      <td>1.241044e+05</td>\n",
       "      <td>...</td>\n",
       "      <td>0</td>\n",
       "      <td>0</td>\n",
       "      <td>1</td>\n",
       "      <td>1</td>\n",
       "      <td>0</td>\n",
       "      <td>0</td>\n",
       "      <td>0</td>\n",
       "      <td>0</td>\n",
       "      <td>Normal</td>\n",
       "      <td>0</td>\n",
       "    </tr>\n",
       "    <tr>\n",
       "      <th>82329</th>\n",
       "      <td>0.000000</td>\n",
       "      <td>arp</td>\n",
       "      <td>-</td>\n",
       "      <td>INT</td>\n",
       "      <td>1</td>\n",
       "      <td>0</td>\n",
       "      <td>46</td>\n",
       "      <td>0</td>\n",
       "      <td>0.000000</td>\n",
       "      <td>0.000000e+00</td>\n",
       "      <td>...</td>\n",
       "      <td>0</td>\n",
       "      <td>0</td>\n",
       "      <td>1</td>\n",
       "      <td>1</td>\n",
       "      <td>0</td>\n",
       "      <td>0</td>\n",
       "      <td>0</td>\n",
       "      <td>1</td>\n",
       "      <td>Normal</td>\n",
       "      <td>0</td>\n",
       "    </tr>\n",
       "    <tr>\n",
       "      <th>82330</th>\n",
       "      <td>0.000000</td>\n",
       "      <td>arp</td>\n",
       "      <td>-</td>\n",
       "      <td>INT</td>\n",
       "      <td>1</td>\n",
       "      <td>0</td>\n",
       "      <td>46</td>\n",
       "      <td>0</td>\n",
       "      <td>0.000000</td>\n",
       "      <td>0.000000e+00</td>\n",
       "      <td>...</td>\n",
       "      <td>0</td>\n",
       "      <td>0</td>\n",
       "      <td>1</td>\n",
       "      <td>1</td>\n",
       "      <td>0</td>\n",
       "      <td>0</td>\n",
       "      <td>0</td>\n",
       "      <td>1</td>\n",
       "      <td>Normal</td>\n",
       "      <td>0</td>\n",
       "    </tr>\n",
       "    <tr>\n",
       "      <th>82331</th>\n",
       "      <td>0.000009</td>\n",
       "      <td>udp</td>\n",
       "      <td>-</td>\n",
       "      <td>INT</td>\n",
       "      <td>2</td>\n",
       "      <td>0</td>\n",
       "      <td>104</td>\n",
       "      <td>0</td>\n",
       "      <td>111111.109375</td>\n",
       "      <td>4.622222e+07</td>\n",
       "      <td>...</td>\n",
       "      <td>0</td>\n",
       "      <td>0</td>\n",
       "      <td>1</td>\n",
       "      <td>1</td>\n",
       "      <td>0</td>\n",
       "      <td>0</td>\n",
       "      <td>0</td>\n",
       "      <td>0</td>\n",
       "      <td>Normal</td>\n",
       "      <td>0</td>\n",
       "    </tr>\n",
       "  </tbody>\n",
       "</table>\n",
       "<p>82332 rows × 36 columns</p>\n",
       "</div>"
      ],
      "text/plain": [
       "            dur proto service state  spkts  dpkts  sbytes  dbytes  \\\n",
       "0      0.000011   udp       -   INT      2      0     496       0   \n",
       "1      0.000008   udp       -   INT      2      0    1762       0   \n",
       "2      0.000005   udp       -   INT      2      0    1068       0   \n",
       "3      0.000006   udp       -   INT      2      0     900       0   \n",
       "4      0.000010   udp       -   INT      2      0    2126       0   \n",
       "...         ...   ...     ...   ...    ...    ...     ...     ...   \n",
       "82327  0.000005   udp       -   INT      2      0     104       0   \n",
       "82328  1.106101   tcp       -   FIN     20      8   18062     354   \n",
       "82329  0.000000   arp       -   INT      1      0      46       0   \n",
       "82330  0.000000   arp       -   INT      1      0      46       0   \n",
       "82331  0.000009   udp       -   INT      2      0     104       0   \n",
       "\n",
       "                rate         sload  ...  trans_depth  response_body_len  \\\n",
       "0       90909.093750  1.803636e+08  ...            0                  0   \n",
       "1      125000.000000  8.810000e+08  ...            0                  0   \n",
       "2      200000.000000  8.544000e+08  ...            0                  0   \n",
       "3      166666.656250  6.000000e+08  ...            0                  0   \n",
       "4      100000.000000  8.504000e+08  ...            0                  0   \n",
       "...              ...           ...  ...          ...                ...   \n",
       "82327  200000.000000  8.320000e+07  ...            0                  0   \n",
       "82328      24.410067  1.241044e+05  ...            0                  0   \n",
       "82329       0.000000  0.000000e+00  ...            0                  0   \n",
       "82330       0.000000  0.000000e+00  ...            0                  0   \n",
       "82331  111111.109375  4.622222e+07  ...            0                  0   \n",
       "\n",
       "       ct_src_dport_ltm  ct_dst_sport_ltm  is_ftp_login  ct_ftp_cmd  \\\n",
       "0                     1                 1             0           0   \n",
       "1                     1                 1             0           0   \n",
       "2                     1                 1             0           0   \n",
       "3                     2                 1             0           0   \n",
       "4                     2                 1             0           0   \n",
       "...                 ...               ...           ...         ...   \n",
       "82327                 1                 1             0           0   \n",
       "82328                 1                 1             0           0   \n",
       "82329                 1                 1             0           0   \n",
       "82330                 1                 1             0           0   \n",
       "82331                 1                 1             0           0   \n",
       "\n",
       "       ct_flw_http_mthd  is_sm_ips_ports  attack_cat  label  \n",
       "0                     0                0      Normal      0  \n",
       "1                     0                0      Normal      0  \n",
       "2                     0                0      Normal      0  \n",
       "3                     0                0      Normal      0  \n",
       "4                     0                0      Normal      0  \n",
       "...                 ...              ...         ...    ...  \n",
       "82327                 0                0      Normal      0  \n",
       "82328                 0                0      Normal      0  \n",
       "82329                 0                1      Normal      0  \n",
       "82330                 0                1      Normal      0  \n",
       "82331                 0                0      Normal      0  \n",
       "\n",
       "[82332 rows x 36 columns]"
      ]
     },
     "execution_count": 140,
     "metadata": {},
     "output_type": "execute_result"
    }
   ],
   "source": [
    "train_data"
   ]
  },
  {
   "cell_type": "code",
   "execution_count": 141,
   "id": "da67c016-8fdc-4991-929a-392e640e9878",
   "metadata": {},
   "outputs": [
    {
     "data": {
      "text/html": [
       "<div>\n",
       "<style scoped>\n",
       "    .dataframe tbody tr th:only-of-type {\n",
       "        vertical-align: middle;\n",
       "    }\n",
       "\n",
       "    .dataframe tbody tr th {\n",
       "        vertical-align: top;\n",
       "    }\n",
       "\n",
       "    .dataframe thead th {\n",
       "        text-align: right;\n",
       "    }\n",
       "</style>\n",
       "<table border=\"1\" class=\"dataframe\">\n",
       "  <thead>\n",
       "    <tr style=\"text-align: right;\">\n",
       "      <th></th>\n",
       "      <th>dur</th>\n",
       "      <th>proto</th>\n",
       "      <th>service</th>\n",
       "      <th>state</th>\n",
       "      <th>spkts</th>\n",
       "      <th>dpkts</th>\n",
       "      <th>sbytes</th>\n",
       "      <th>dbytes</th>\n",
       "      <th>rate</th>\n",
       "      <th>sload</th>\n",
       "      <th>...</th>\n",
       "      <th>trans_depth</th>\n",
       "      <th>response_body_len</th>\n",
       "      <th>ct_src_dport_ltm</th>\n",
       "      <th>ct_dst_sport_ltm</th>\n",
       "      <th>is_ftp_login</th>\n",
       "      <th>ct_ftp_cmd</th>\n",
       "      <th>ct_flw_http_mthd</th>\n",
       "      <th>is_sm_ips_ports</th>\n",
       "      <th>attack_cat</th>\n",
       "      <th>label</th>\n",
       "    </tr>\n",
       "  </thead>\n",
       "  <tbody>\n",
       "    <tr>\n",
       "      <th>0</th>\n",
       "      <td>0.121478</td>\n",
       "      <td>tcp</td>\n",
       "      <td>-</td>\n",
       "      <td>FIN</td>\n",
       "      <td>6</td>\n",
       "      <td>4</td>\n",
       "      <td>258</td>\n",
       "      <td>172</td>\n",
       "      <td>74.087486</td>\n",
       "      <td>1.415894e+04</td>\n",
       "      <td>...</td>\n",
       "      <td>0</td>\n",
       "      <td>0</td>\n",
       "      <td>1</td>\n",
       "      <td>1</td>\n",
       "      <td>0</td>\n",
       "      <td>0</td>\n",
       "      <td>0</td>\n",
       "      <td>0</td>\n",
       "      <td>Normal</td>\n",
       "      <td>0</td>\n",
       "    </tr>\n",
       "    <tr>\n",
       "      <th>1</th>\n",
       "      <td>0.649902</td>\n",
       "      <td>tcp</td>\n",
       "      <td>-</td>\n",
       "      <td>FIN</td>\n",
       "      <td>14</td>\n",
       "      <td>38</td>\n",
       "      <td>734</td>\n",
       "      <td>42014</td>\n",
       "      <td>78.473373</td>\n",
       "      <td>8.395112e+03</td>\n",
       "      <td>...</td>\n",
       "      <td>0</td>\n",
       "      <td>0</td>\n",
       "      <td>1</td>\n",
       "      <td>1</td>\n",
       "      <td>0</td>\n",
       "      <td>0</td>\n",
       "      <td>0</td>\n",
       "      <td>0</td>\n",
       "      <td>Normal</td>\n",
       "      <td>0</td>\n",
       "    </tr>\n",
       "    <tr>\n",
       "      <th>2</th>\n",
       "      <td>1.623129</td>\n",
       "      <td>tcp</td>\n",
       "      <td>-</td>\n",
       "      <td>FIN</td>\n",
       "      <td>8</td>\n",
       "      <td>16</td>\n",
       "      <td>364</td>\n",
       "      <td>13186</td>\n",
       "      <td>14.170161</td>\n",
       "      <td>1.572272e+03</td>\n",
       "      <td>...</td>\n",
       "      <td>0</td>\n",
       "      <td>0</td>\n",
       "      <td>1</td>\n",
       "      <td>1</td>\n",
       "      <td>0</td>\n",
       "      <td>0</td>\n",
       "      <td>0</td>\n",
       "      <td>0</td>\n",
       "      <td>Normal</td>\n",
       "      <td>0</td>\n",
       "    </tr>\n",
       "    <tr>\n",
       "      <th>3</th>\n",
       "      <td>1.681642</td>\n",
       "      <td>tcp</td>\n",
       "      <td>ftp</td>\n",
       "      <td>FIN</td>\n",
       "      <td>12</td>\n",
       "      <td>12</td>\n",
       "      <td>628</td>\n",
       "      <td>770</td>\n",
       "      <td>13.677108</td>\n",
       "      <td>2.740179e+03</td>\n",
       "      <td>...</td>\n",
       "      <td>0</td>\n",
       "      <td>0</td>\n",
       "      <td>1</td>\n",
       "      <td>1</td>\n",
       "      <td>1</td>\n",
       "      <td>1</td>\n",
       "      <td>0</td>\n",
       "      <td>0</td>\n",
       "      <td>Normal</td>\n",
       "      <td>0</td>\n",
       "    </tr>\n",
       "    <tr>\n",
       "      <th>4</th>\n",
       "      <td>0.449454</td>\n",
       "      <td>tcp</td>\n",
       "      <td>-</td>\n",
       "      <td>FIN</td>\n",
       "      <td>10</td>\n",
       "      <td>6</td>\n",
       "      <td>534</td>\n",
       "      <td>268</td>\n",
       "      <td>33.373825</td>\n",
       "      <td>8.561499e+03</td>\n",
       "      <td>...</td>\n",
       "      <td>0</td>\n",
       "      <td>0</td>\n",
       "      <td>2</td>\n",
       "      <td>1</td>\n",
       "      <td>0</td>\n",
       "      <td>0</td>\n",
       "      <td>0</td>\n",
       "      <td>0</td>\n",
       "      <td>Normal</td>\n",
       "      <td>0</td>\n",
       "    </tr>\n",
       "    <tr>\n",
       "      <th>...</th>\n",
       "      <td>...</td>\n",
       "      <td>...</td>\n",
       "      <td>...</td>\n",
       "      <td>...</td>\n",
       "      <td>...</td>\n",
       "      <td>...</td>\n",
       "      <td>...</td>\n",
       "      <td>...</td>\n",
       "      <td>...</td>\n",
       "      <td>...</td>\n",
       "      <td>...</td>\n",
       "      <td>...</td>\n",
       "      <td>...</td>\n",
       "      <td>...</td>\n",
       "      <td>...</td>\n",
       "      <td>...</td>\n",
       "      <td>...</td>\n",
       "      <td>...</td>\n",
       "      <td>...</td>\n",
       "      <td>...</td>\n",
       "      <td>...</td>\n",
       "    </tr>\n",
       "    <tr>\n",
       "      <th>175336</th>\n",
       "      <td>0.000009</td>\n",
       "      <td>udp</td>\n",
       "      <td>dns</td>\n",
       "      <td>INT</td>\n",
       "      <td>2</td>\n",
       "      <td>0</td>\n",
       "      <td>114</td>\n",
       "      <td>0</td>\n",
       "      <td>111111.109375</td>\n",
       "      <td>5.066666e+07</td>\n",
       "      <td>...</td>\n",
       "      <td>0</td>\n",
       "      <td>0</td>\n",
       "      <td>24</td>\n",
       "      <td>13</td>\n",
       "      <td>0</td>\n",
       "      <td>0</td>\n",
       "      <td>0</td>\n",
       "      <td>0</td>\n",
       "      <td>Generic</td>\n",
       "      <td>1</td>\n",
       "    </tr>\n",
       "    <tr>\n",
       "      <th>175337</th>\n",
       "      <td>0.505762</td>\n",
       "      <td>tcp</td>\n",
       "      <td>-</td>\n",
       "      <td>FIN</td>\n",
       "      <td>10</td>\n",
       "      <td>8</td>\n",
       "      <td>620</td>\n",
       "      <td>354</td>\n",
       "      <td>33.612648</td>\n",
       "      <td>8.826286e+03</td>\n",
       "      <td>...</td>\n",
       "      <td>0</td>\n",
       "      <td>0</td>\n",
       "      <td>1</td>\n",
       "      <td>1</td>\n",
       "      <td>0</td>\n",
       "      <td>0</td>\n",
       "      <td>0</td>\n",
       "      <td>0</td>\n",
       "      <td>Shellcode</td>\n",
       "      <td>1</td>\n",
       "    </tr>\n",
       "    <tr>\n",
       "      <th>175338</th>\n",
       "      <td>0.000009</td>\n",
       "      <td>udp</td>\n",
       "      <td>dns</td>\n",
       "      <td>INT</td>\n",
       "      <td>2</td>\n",
       "      <td>0</td>\n",
       "      <td>114</td>\n",
       "      <td>0</td>\n",
       "      <td>111111.109375</td>\n",
       "      <td>5.066666e+07</td>\n",
       "      <td>...</td>\n",
       "      <td>0</td>\n",
       "      <td>0</td>\n",
       "      <td>3</td>\n",
       "      <td>3</td>\n",
       "      <td>0</td>\n",
       "      <td>0</td>\n",
       "      <td>0</td>\n",
       "      <td>0</td>\n",
       "      <td>Generic</td>\n",
       "      <td>1</td>\n",
       "    </tr>\n",
       "    <tr>\n",
       "      <th>175339</th>\n",
       "      <td>0.000009</td>\n",
       "      <td>udp</td>\n",
       "      <td>dns</td>\n",
       "      <td>INT</td>\n",
       "      <td>2</td>\n",
       "      <td>0</td>\n",
       "      <td>114</td>\n",
       "      <td>0</td>\n",
       "      <td>111111.109375</td>\n",
       "      <td>5.066666e+07</td>\n",
       "      <td>...</td>\n",
       "      <td>0</td>\n",
       "      <td>0</td>\n",
       "      <td>30</td>\n",
       "      <td>14</td>\n",
       "      <td>0</td>\n",
       "      <td>0</td>\n",
       "      <td>0</td>\n",
       "      <td>0</td>\n",
       "      <td>Generic</td>\n",
       "      <td>1</td>\n",
       "    </tr>\n",
       "    <tr>\n",
       "      <th>175340</th>\n",
       "      <td>0.000009</td>\n",
       "      <td>udp</td>\n",
       "      <td>dns</td>\n",
       "      <td>INT</td>\n",
       "      <td>2</td>\n",
       "      <td>0</td>\n",
       "      <td>114</td>\n",
       "      <td>0</td>\n",
       "      <td>111111.109375</td>\n",
       "      <td>5.066666e+07</td>\n",
       "      <td>...</td>\n",
       "      <td>0</td>\n",
       "      <td>0</td>\n",
       "      <td>30</td>\n",
       "      <td>16</td>\n",
       "      <td>0</td>\n",
       "      <td>0</td>\n",
       "      <td>0</td>\n",
       "      <td>0</td>\n",
       "      <td>Generic</td>\n",
       "      <td>1</td>\n",
       "    </tr>\n",
       "  </tbody>\n",
       "</table>\n",
       "<p>175341 rows × 36 columns</p>\n",
       "</div>"
      ],
      "text/plain": [
       "             dur proto service state  spkts  dpkts  sbytes  dbytes  \\\n",
       "0       0.121478   tcp       -   FIN      6      4     258     172   \n",
       "1       0.649902   tcp       -   FIN     14     38     734   42014   \n",
       "2       1.623129   tcp       -   FIN      8     16     364   13186   \n",
       "3       1.681642   tcp     ftp   FIN     12     12     628     770   \n",
       "4       0.449454   tcp       -   FIN     10      6     534     268   \n",
       "...          ...   ...     ...   ...    ...    ...     ...     ...   \n",
       "175336  0.000009   udp     dns   INT      2      0     114       0   \n",
       "175337  0.505762   tcp       -   FIN     10      8     620     354   \n",
       "175338  0.000009   udp     dns   INT      2      0     114       0   \n",
       "175339  0.000009   udp     dns   INT      2      0     114       0   \n",
       "175340  0.000009   udp     dns   INT      2      0     114       0   \n",
       "\n",
       "                 rate         sload  ...  trans_depth  response_body_len  \\\n",
       "0           74.087486  1.415894e+04  ...            0                  0   \n",
       "1           78.473373  8.395112e+03  ...            0                  0   \n",
       "2           14.170161  1.572272e+03  ...            0                  0   \n",
       "3           13.677108  2.740179e+03  ...            0                  0   \n",
       "4           33.373825  8.561499e+03  ...            0                  0   \n",
       "...               ...           ...  ...          ...                ...   \n",
       "175336  111111.109375  5.066666e+07  ...            0                  0   \n",
       "175337      33.612648  8.826286e+03  ...            0                  0   \n",
       "175338  111111.109375  5.066666e+07  ...            0                  0   \n",
       "175339  111111.109375  5.066666e+07  ...            0                  0   \n",
       "175340  111111.109375  5.066666e+07  ...            0                  0   \n",
       "\n",
       "        ct_src_dport_ltm  ct_dst_sport_ltm  is_ftp_login  ct_ftp_cmd  \\\n",
       "0                      1                 1             0           0   \n",
       "1                      1                 1             0           0   \n",
       "2                      1                 1             0           0   \n",
       "3                      1                 1             1           1   \n",
       "4                      2                 1             0           0   \n",
       "...                  ...               ...           ...         ...   \n",
       "175336                24                13             0           0   \n",
       "175337                 1                 1             0           0   \n",
       "175338                 3                 3             0           0   \n",
       "175339                30                14             0           0   \n",
       "175340                30                16             0           0   \n",
       "\n",
       "        ct_flw_http_mthd  is_sm_ips_ports  attack_cat  label  \n",
       "0                      0                0      Normal      0  \n",
       "1                      0                0      Normal      0  \n",
       "2                      0                0      Normal      0  \n",
       "3                      0                0      Normal      0  \n",
       "4                      0                0      Normal      0  \n",
       "...                  ...              ...         ...    ...  \n",
       "175336                 0                0     Generic      1  \n",
       "175337                 0                0   Shellcode      1  \n",
       "175338                 0                0     Generic      1  \n",
       "175339                 0                0     Generic      1  \n",
       "175340                 0                0     Generic      1  \n",
       "\n",
       "[175341 rows x 36 columns]"
      ]
     },
     "execution_count": 141,
     "metadata": {},
     "output_type": "execute_result"
    }
   ],
   "source": [
    "test_data"
   ]
  },
  {
   "cell_type": "code",
   "execution_count": 142,
   "id": "4feb8ba0-c9a8-4b02-86e1-66c9265f6238",
   "metadata": {
    "id": "4feb8ba0-c9a8-4b02-86e1-66c9265f6238"
   },
   "outputs": [],
   "source": [
    "# Split into features and labels\n",
    "X_train = train_data.drop(columns=['label'])\n",
    "y_train = train_data['label']\n",
    "X_test = test_data.drop(columns=['label'])\n",
    "y_test = test_data['label']"
   ]
  },
  {
   "cell_type": "code",
   "execution_count": 143,
   "id": "ac375d51-6a88-4355-9448-53d531af5bf9",
   "metadata": {},
   "outputs": [],
   "source": [
    "# Identify numeric and categorical columns\n",
    "numeric_features = X_train.select_dtypes(include=[np.number]).columns.tolist()\n",
    "categorical_features = X_train.select_dtypes(exclude=[np.number]).columns.tolist()"
   ]
  },
  {
   "cell_type": "code",
   "execution_count": 144,
   "id": "b5c01280-ea46-474a-80dd-d618254315dd",
   "metadata": {},
   "outputs": [],
   "source": [
    "# Define the preprocessing pipeline for numeric and categorical features\n",
    "preprocessor = ColumnTransformer(\n",
    "    transformers=[\n",
    "        ('num', StandardScaler(), numeric_features),\n",
    "        ('cat', OneHotEncoder(handle_unknown='ignore'), categorical_features)\n",
    "    ])"
   ]
  },
  {
   "cell_type": "code",
   "execution_count": 145,
   "id": "a70faf64-311a-43f6-974e-dde60e80cfc7",
   "metadata": {
    "id": "a70faf64-311a-43f6-974e-dde60e80cfc7"
   },
   "outputs": [],
   "source": [
    "# Fit the preprocessing pipeline on X_train and transform both X_train and X_test\n",
    "X_train_scaled = preprocessor.fit_transform(X_train)"
   ]
  },
  {
   "cell_type": "code",
   "execution_count": 146,
   "id": "d78b1ea0-83c8-4413-944c-eb2952a79136",
   "metadata": {},
   "outputs": [],
   "source": [
    "X_test_scaled = preprocessor.transform(X_test)"
   ]
  },
  {
   "cell_type": "markdown",
   "id": "cb8c91f0-f2af-49d2-a3db-16bb9e449b3c",
   "metadata": {},
   "source": [
    "## Global Data"
   ]
  },
  {
   "cell_type": "code",
   "execution_count": 147,
   "id": "e9c28576-71de-49cd-aab2-f99b2c67f8e8",
   "metadata": {},
   "outputs": [],
   "source": [
    "# Combine train and test data into a single DataFrame\n",
    "data = pd.concat([train_data, test_data])"
   ]
  },
  {
   "cell_type": "code",
   "execution_count": 148,
   "id": "2c2aaa8c-5465-4905-b1d9-2e130cda79c3",
   "metadata": {},
   "outputs": [],
   "source": [
    "# Get features and target variable (ground truth)\n",
    "X = data.drop(columns=['label'])\n",
    "y = data['label']"
   ]
  },
  {
   "cell_type": "code",
   "execution_count": 149,
   "id": "593e43f4-1cd7-4257-8669-8c6142b4c13c",
   "metadata": {},
   "outputs": [],
   "source": [
    "# Identify numeric and categorical columns\n",
    "numeric_features_all = X.select_dtypes(include=[np.number]).columns.tolist()\n",
    "categorical_features_all = X.select_dtypes(exclude=[np.number]).columns.tolist()"
   ]
  },
  {
   "cell_type": "code",
   "execution_count": 150,
   "id": "d1c00098-2ebf-48fd-b003-6cc8e528f90d",
   "metadata": {},
   "outputs": [],
   "source": [
    "preprocessor_all = ColumnTransformer(\n",
    "    transformers=[\n",
    "        ('num', StandardScaler(), numeric_features_all),\n",
    "        ('cat', OneHotEncoder(), categorical_features_all)\n",
    "    ])"
   ]
  },
  {
   "cell_type": "code",
   "execution_count": 151,
   "id": "71e0e3bd-96c2-4ef8-8e4b-e91a8cffa97d",
   "metadata": {},
   "outputs": [],
   "source": [
    "# Preprocess features\n",
    "X_scaled = preprocessor_all.fit_transform(X)"
   ]
  },
  {
   "cell_type": "code",
   "execution_count": 152,
   "id": "41e4a41d-dc2e-4ef2-93e8-ff50826588ad",
   "metadata": {},
   "outputs": [
    {
     "data": {
      "text/plain": [
       "<257673x198 sparse matrix of type '<class 'numpy.float64'>'\n",
       "\twith 9018555 stored elements in Compressed Sparse Row format>"
      ]
     },
     "execution_count": 152,
     "metadata": {},
     "output_type": "execute_result"
    }
   ],
   "source": [
    "X_scaled"
   ]
  },
  {
   "cell_type": "markdown",
   "id": "efc9a4d8-bc18-47a0-81ef-5bb804e2c27e",
   "metadata": {},
   "source": [
    "## Data Distribution (2D SVD)"
   ]
  },
  {
   "cell_type": "code",
   "execution_count": 153,
   "id": "6eb2e326-7eed-4bcc-97c9-1b6892cc62fb",
   "metadata": {},
   "outputs": [
    {
     "data": {
      "image/png": "[encoded data removed]",
      "text/plain": [
       "<Figure size 800x600 with 1 Axes>"
      ]
     },
     "metadata": {},
     "output_type": "display_data"
    }
   ],
   "source": [
    "# Initialize TruncatedSVD with 2 components\n",
    "svd = TruncatedSVD(n_components=2)\n",
    "\n",
    "# Fit and transform the scaled data\n",
    "X_svd = svd.fit_transform(X_scaled)\n",
    "\n",
    "# Plotting the SVD-transformed data\n",
    "plt.figure(figsize=(8, 6))\n",
    "sns.scatterplot(x=X_svd[:, 0], y=X_svd[:, 1], hue=y, palette='viridis', s=50)\n",
    "plt.title('TruncatedSVD Plot of Data')\n",
    "plt.xlabel('Component 1')\n",
    "plt.ylabel('Component 2')\n",
    "plt.legend(title='Target', loc='best')\n",
    "plt.show()"
   ]
  },
  {
   "cell_type": "markdown",
   "id": "3147ab2d-2bc3-4d3b-b6f3-35cabfff4191",
   "metadata": {
    "id": "3147ab2d-2bc3-4d3b-b6f3-35cabfff4191"
   },
   "source": [
    "# Anomaly Detection Models"
   ]
  },
  {
   "cell_type": "markdown",
   "id": "d66b0c16-ab3e-4190-8093-ebcde58ab7b8",
   "metadata": {
    "id": "d66b0c16-ab3e-4190-8093-ebcde58ab7b8"
   },
   "source": [
    "## Isolation Forest"
   ]
  },
  {
   "cell_type": "raw",
   "id": "7ee4e310-5af9-4417-9815-f51474fa86fa",
   "metadata": {
    "id": "7ee4e310-5af9-4417-9815-f51474fa86fa"
   },
   "source": [
    "Isolation Forest stands as a formidable anomaly detection algorithm renowned for its efficiency and versatility. Anomaly detection is the backbone of data analysis to identify patterns or events that deviate significantly from the norm in a dataset. Isolation forest operates by isolating anomalies within a dataset through a process of recursive partitioning.\n",
    "\n",
    "Unlike traditional methods that rely on proximity measures, Isolation Forest takes a unique approach by randomly selecting features and splitting them along random values until individual data points are isolated.\n",
    "This “isolating” process is responsible for creating partitions or “trees” that aim to separate anomalies from normal observations.\n",
    "Anomalies, being fewer in number and further from the norm, typically require fewer splits to isolate, making them easier to detect."
   ]
  },
  {
   "cell_type": "code",
   "execution_count": 154,
   "id": "82511e62-e9df-4e4b-b22f-5122ded3ba21",
   "metadata": {},
   "outputs": [],
   "source": [
    "# Determine the fraction of outliers\n",
    "outliers = len(data[data['label']==1])\n",
    "total = len(data[data['label']==0]) + len(data[data['label']==1])\n",
    "outlier_fraction = outliers/float(total)"
   ]
  },
  {
   "cell_type": "code",
   "execution_count": 155,
   "id": "b618b095-b9f6-4eed-a349-0ee8d597eb7a",
   "metadata": {},
   "outputs": [
    {
     "data": {
      "text/plain": [
       "0.6390774353541117"
      ]
     },
     "execution_count": 155,
     "metadata": {},
     "output_type": "execute_result"
    }
   ],
   "source": [
    "outlier_fraction"
   ]
  },
  {
   "cell_type": "code",
   "execution_count": 156,
   "id": "d499608a-b73a-4fba-b1e0-c5a2b12ef7b8",
   "metadata": {
    "id": "d499608a-b73a-4fba-b1e0-c5a2b12ef7b8",
    "outputId": "c29a0aa6-ad4e-4207-c9e2-988675f2b4f7"
   },
   "outputs": [
    {
     "data": {
      "text/html": [
       "<style>#sk-container-id-5 {color: black;}#sk-container-id-5 pre{padding: 0;}#sk-container-id-5 div.sk-toggleable {background-color: white;}#sk-container-id-5 label.sk-toggleable__label {cursor: pointer;display: block;width: 100%;margin-bottom: 0;padding: 0.3em;box-sizing: border-box;text-align: center;}#sk-container-id-5 label.sk-toggleable__label-arrow:before {content: \"▸\";float: left;margin-right: 0.25em;color: #696969;}#sk-container-id-5 label.sk-toggleable__label-arrow:hover:before {color: black;}#sk-container-id-5 div.sk-estimator:hover label.sk-toggleable__label-arrow:before {color: black;}#sk-container-id-5 div.sk-toggleable__content {max-height: 0;max-width: 0;overflow: hidden;text-align: left;background-color: #f0f8ff;}#sk-container-id-5 div.sk-toggleable__content pre {margin: 0.2em;color: black;border-radius: 0.25em;background-color: #f0f8ff;}#sk-container-id-5 input.sk-toggleable__control:checked~div.sk-toggleable__content {max-height: 200px;max-width: 100%;overflow: auto;}#sk-container-id-5 input.sk-toggleable__control:checked~label.sk-toggleable__label-arrow:before {content: \"▾\";}#sk-container-id-5 div.sk-estimator input.sk-toggleable__control:checked~label.sk-toggleable__label {background-color: #d4ebff;}#sk-container-id-5 div.sk-label input.sk-toggleable__control:checked~label.sk-toggleable__label {background-color: #d4ebff;}#sk-container-id-5 input.sk-hidden--visually {border: 0;clip: rect(1px 1px 1px 1px);clip: rect(1px, 1px, 1px, 1px);height: 1px;margin: -1px;overflow: hidden;padding: 0;position: absolute;width: 1px;}#sk-container-id-5 div.sk-estimator {font-family: monospace;background-color: #f0f8ff;border: 1px dotted black;border-radius: 0.25em;box-sizing: border-box;margin-bottom: 0.5em;}#sk-container-id-5 div.sk-estimator:hover {background-color: #d4ebff;}#sk-container-id-5 div.sk-parallel-item::after {content: \"\";width: 100%;border-bottom: 1px solid gray;flex-grow: 1;}#sk-container-id-5 div.sk-label:hover label.sk-toggleable__label {background-color: #d4ebff;}#sk-container-id-5 div.sk-serial::before {content: \"\";position: absolute;border-left: 1px solid gray;box-sizing: border-box;top: 0;bottom: 0;left: 50%;z-index: 0;}#sk-container-id-5 div.sk-serial {display: flex;flex-direction: column;align-items: center;background-color: white;padding-right: 0.2em;padding-left: 0.2em;position: relative;}#sk-container-id-5 div.sk-item {position: relative;z-index: 1;}#sk-container-id-5 div.sk-parallel {display: flex;align-items: stretch;justify-content: center;background-color: white;position: relative;}#sk-container-id-5 div.sk-item::before, #sk-container-id-5 div.sk-parallel-item::before {content: \"\";position: absolute;border-left: 1px solid gray;box-sizing: border-box;top: 0;bottom: 0;left: 50%;z-index: -1;}#sk-container-id-5 div.sk-parallel-item {display: flex;flex-direction: column;z-index: 1;position: relative;background-color: white;}#sk-container-id-5 div.sk-parallel-item:first-child::after {align-self: flex-end;width: 50%;}#sk-container-id-5 div.sk-parallel-item:last-child::after {align-self: flex-start;width: 50%;}#sk-container-id-5 div.sk-parallel-item:only-child::after {width: 0;}#sk-container-id-5 div.sk-dashed-wrapped {border: 1px dashed gray;margin: 0 0.4em 0.5em 0.4em;box-sizing: border-box;padding-bottom: 0.4em;background-color: white;}#sk-container-id-5 div.sk-label label {font-family: monospace;font-weight: bold;display: inline-block;line-height: 1.2em;}#sk-container-id-5 div.sk-label-container {text-align: center;}#sk-container-id-5 div.sk-container {/* jupyter's `normalize.less` sets `[hidden] { display: none; }` but bootstrap.min.css set `[hidden] { display: none !important; }` so we also need the `!important` here to be able to override the default hidden behavior on the sphinx rendered scikit-learn.org. See: https://github.com/scikit-learn/scikit-learn/issues/21755 */display: inline-block !important;position: relative;}#sk-container-id-5 div.sk-text-repr-fallback {display: none;}</style><div id=\"sk-container-id-5\" class=\"sk-top-container\"><div class=\"sk-text-repr-fallback\"><pre>IsolationForest(contamination=0.5, random_state=42)</pre><b>In a Jupyter environment, please rerun this cell to show the HTML representation or trust the notebook. <br />On GitHub, the HTML representation is unable to render, please try loading this page with nbviewer.org.</b></div><div class=\"sk-container\" hidden><div class=\"sk-item\"><div class=\"sk-estimator sk-toggleable\"><input class=\"sk-toggleable__control sk-hidden--visually\" id=\"sk-estimator-id-5\" type=\"checkbox\" checked><label for=\"sk-estimator-id-5\" class=\"sk-toggleable__label sk-toggleable__label-arrow\">IsolationForest</label><div class=\"sk-toggleable__content\"><pre>IsolationForest(contamination=0.5, random_state=42)</pre></div></div></div></div></div>"
      ],
      "text/plain": [
       "IsolationForest(contamination=0.5, random_state=42)"
      ]
     },
     "execution_count": 156,
     "metadata": {},
     "output_type": "execute_result"
    }
   ],
   "source": [
    "# Initialize the Isolation Forest model\n",
    "iso_forest = IsolationForest(n_estimators=100, max_samples='auto', contamination=0.5, random_state=42)\n",
    "\n",
    "# Convert combined data to csr_matrix\n",
    "X_scaled_csr = X_scaled.toarray() if isinstance(X_scaled, csr_matrix) else X_scaled\n",
    "\n",
    "# Fit the model to unlabeled data\n",
    "iso_forest.fit(X_scaled_csr)"
   ]
  },
  {
   "cell_type": "code",
   "execution_count": 157,
   "id": "8ef2224b-7aa8-4f2f-817d-462b7a6c4ab2",
   "metadata": {
    "id": "8ef2224b-7aa8-4f2f-817d-462b7a6c4ab2",
    "outputId": "da0f66f9-dd6f-4ede-86ee-4523e690b5f7"
   },
   "outputs": [
    {
     "name": "stdout",
     "output_type": "stream",
     "text": [
      "{'bootstrap': False, 'contamination': 0.5, 'max_features': 1.0, 'max_samples': 'auto', 'n_estimators': 100, 'n_jobs': None, 'random_state': 42, 'verbose': 0, 'warm_start': False}\n"
     ]
    }
   ],
   "source": [
    "print(iso_forest.get_params())"
   ]
  },
  {
   "cell_type": "code",
   "execution_count": 158,
   "id": "caa4cdbe-5c84-48ab-b356-15fff14089a8",
   "metadata": {
    "id": "caa4cdbe-5c84-48ab-b356-15fff14089a8"
   },
   "outputs": [],
   "source": [
    "# Predict anomalies\n",
    "y_pred = iso_forest.predict(X_scaled)\n",
    "y_pred = np.where(y_pred == 1, 0, 1)  # Convert to 0 (normal) and 1 (anomaly)"
   ]
  },
  {
   "cell_type": "code",
   "execution_count": 159,
   "id": "49c31b68-902b-4efe-88cd-6a40eae69c03",
   "metadata": {
    "id": "49c31b68-902b-4efe-88cd-6a40eae69c03",
    "outputId": "682e7981-e3fc-4fb2-8310-937ac4a9b097"
   },
   "outputs": [
    {
     "name": "stdout",
     "output_type": "stream",
     "text": [
      "Isolation Forest\n",
      "              precision    recall  f1-score   support\n",
      "\n",
      "           0       0.28      0.39      0.32     93000\n",
      "           1       0.56      0.44      0.49    164673\n",
      "\n",
      "    accuracy                           0.42    257673\n",
      "   macro avg       0.42      0.41      0.41    257673\n",
      "weighted avg       0.46      0.42      0.43    257673\n",
      "\n"
     ]
    }
   ],
   "source": [
    "# Evaluate (Compare to ground truth)\n",
    "print(\"Isolation Forest\")\n",
    "print(classification_report(y, y_pred))"
   ]
  },
  {
   "cell_type": "code",
   "execution_count": 160,
   "id": "2e7677cf-df86-4bfc-9cfe-2622ca973537",
   "metadata": {},
   "outputs": [
    {
     "data": {
      "image/png": "[encoded data removed]",
      "text/plain": [
       "<Figure size 700x400 with 1 Axes>"
      ]
     },
     "metadata": {},
     "output_type": "display_data"
    }
   ],
   "source": [
    "# Define the sample size\n",
    "sample_size = 100\n",
    "# Plot the graph\n",
    "plt.figure(figsize=(7, 4))\n",
    "sns.scatterplot(x=data.index[:sample_size], y=y_pred[:sample_size], hue=y_pred[:sample_size], palette={0: 'blue', 1: 'red'}, s=50)\n",
    "plt.title('Visualization of Normal vs Anomalous Traffic (Sample)')\n",
    "plt.xlabel('Data points')\n",
    "plt.ylabel(y.name)\n",
    "plt.legend(title='Predicted Class', loc='best')\n",
    "plt.show()"
   ]
  },
  {
   "cell_type": "code",
   "execution_count": 161,
   "id": "2ee509c6-2d6f-473d-ad28-fc84747f702d",
   "metadata": {},
   "outputs": [],
   "source": [
    "# Get feature names post one-hot encoding\n",
    "encoded_feature_names = list(preprocessor_all.named_transformers_['cat'].get_feature_names_out(categorical_features_all))\n",
    "feature_names = numeric_features_all + encoded_feature_names"
   ]
  },
  {
   "cell_type": "code",
   "execution_count": 162,
   "id": "e55c70c1-0e16-4ead-b714-b0a4e0b18287",
   "metadata": {},
   "outputs": [
    {
     "data": {
      "text/plain": [
       "198"
      ]
     },
     "execution_count": 162,
     "metadata": {},
     "output_type": "execute_result"
    }
   ],
   "source": [
    "len(feature_names)"
   ]
  },
  {
   "cell_type": "code",
   "execution_count": 163,
   "id": "8eea6226-7ca1-4e0f-842b-67d8d1c4aad9",
   "metadata": {
    "id": "8eea6226-7ca1-4e0f-842b-67d8d1c4aad9",
    "outputId": "81cb50b5-a019-4689-f7d1-869bd124d813"
   },
   "outputs": [
    {
     "name": "stdout",
     "output_type": "stream",
     "text": [
      "Tree 0\n",
      "|--- service_ftp-data <= 0.08\n",
      "|   |--- proto_chaos <= 0.30\n",
      "|   |   |--- service_http <= 0.69\n",
      "|   |   |   |--- state_CON <= 1.00\n",
      "|   |   |   |   |--- attack_cat_Analysis <= 0.54\n",
      "|   |   |   |   |   |--- djit <= 27.46\n",
      "|   |   |   |   |   |   |--- attack_cat_Exploits <= 0.10\n",
      "|   |   |   |   |   |   |   |--- proto_st2 <= 0.50\n",
      "|   |   |   |   |   |   |   |   |--- value: [0.50]\n",
      "|   |   |   |   |   |   |   |--- proto_st2 >  0.50\n",
      "|   |   |   |   |   |   |   |   |--- value: [0.46]\n",
      "|   |   |   |   |   |   |--- attack_cat_Exploits >  0.10\n",
      "|   |   |   |   |   |   |   |--- sinpkt <= -0.13\n",
      "|   |   |   |   |   |   |   |   |--- value: [0.55]\n",
      "|   |   |   |   |   |   |   |--- sinpkt >  -0.13\n",
      "|   |   |   |   |   |   |   |   |--- value: [0.62]\n",
      "|   |   |   |   |   |--- djit >  27.46\n",
      "|   |   |   |   |   |   |--- value: [0.17]\n",
      "|   |   |   |   |--- attack_cat_Analysis >  0.54\n",
      "|   |   |   |   |   |--- value: [0.12]\n",
      "|   |   |   |--- state_CON >  1.00\n",
      "|   |   |   |   |--- dinpkt <= -0.09\n",
      "|   |   |   |   |   |--- tcprtt <= 4.13\n",
      "|   |   |   |   |   |   |--- stcpb <= 0.24\n",
      "|   |   |   |   |   |   |   |--- dinpkt <= -0.09\n",
      "|   |   |   |   |   |   |   |   |--- value: [0.62]\n",
      "|   |   |   |   |   |   |   |--- dinpkt >  -0.09\n",
      "|   |   |   |   |   |   |   |   |--- value: [0.63]\n",
      "|   |   |   |   |   |   |--- stcpb >  0.24\n",
      "|   |   |   |   |   |   |   |--- value: [0.62]\n",
      "|   |   |   |   |   |--- tcprtt >  4.13\n",
      "|   |   |   |   |   |   |--- value: [0.46]\n",
      "|   |   |   |   |--- dinpkt >  -0.09\n",
      "|   |   |   |   |   |--- sbytes <= 2.09\n",
      "|   |   |   |   |   |   |--- value: [0.29]\n",
      "|   |   |   |   |   |--- sbytes >  2.09\n",
      "|   |   |   |   |   |   |--- value: [0.25]\n",
      "|   |   |--- service_http >  0.69\n",
      "|   |   |   |--- sjit <= 0.02\n",
      "|   |   |   |   |--- stcpb <= 1.59\n",
      "|   |   |   |   |   |--- attack_cat_Analysis <= 0.65\n",
      "|   |   |   |   |   |   |--- spkts <= 0.24\n",
      "|   |   |   |   |   |   |   |--- dinpkt <= -0.02\n",
      "|   |   |   |   |   |   |   |   |--- value: [0.67]\n",
      "|   |   |   |   |   |   |   |--- dinpkt >  -0.02\n",
      "|   |   |   |   |   |   |   |   |--- value: [0.34]\n",
      "|   |   |   |   |   |   |--- spkts >  0.24\n",
      "|   |   |   |   |   |   |   |--- value: [0.48]\n",
      "|   |   |   |   |   |--- attack_cat_Analysis >  0.65\n",
      "|   |   |   |   |   |   |--- dload <= -0.27\n",
      "|   |   |   |   |   |   |   |--- value: [0.37]\n",
      "|   |   |   |   |   |   |--- dload >  -0.27\n",
      "|   |   |   |   |   |   |   |--- value: [0.88]\n",
      "|   |   |   |   |--- stcpb >  1.59\n",
      "|   |   |   |   |   |--- attack_cat_Exploits <= 0.40\n",
      "|   |   |   |   |   |   |--- synack <= -0.03\n",
      "|   |   |   |   |   |   |   |--- value: [0.73]\n",
      "|   |   |   |   |   |   |--- synack >  -0.03\n",
      "|   |   |   |   |   |   |   |--- value: [0.65]\n",
      "|   |   |   |   |   |--- attack_cat_Exploits >  0.40\n",
      "|   |   |   |   |   |   |--- dpkts <= -0.11\n",
      "|   |   |   |   |   |   |   |--- value: [0.79]\n",
      "|   |   |   |   |   |   |--- dpkts >  -0.11\n",
      "|   |   |   |   |   |   |   |--- value: [0.25]\n",
      "|   |   |   |--- sjit >  0.02\n",
      "|   |   |   |   |--- sload <= -0.38\n",
      "|   |   |   |   |   |--- sload <= -0.38\n",
      "|   |   |   |   |   |   |--- value: [0.71]\n",
      "|   |   |   |   |   |--- sload >  -0.38\n",
      "|   |   |   |   |   |   |--- dbytes <= -0.06\n",
      "|   |   |   |   |   |   |   |--- dloss <= -0.10\n",
      "|   |   |   |   |   |   |   |   |--- value: [0.86]\n",
      "|   |   |   |   |   |   |   |--- dloss >  -0.10\n",
      "|   |   |   |   |   |   |   |   |--- value: [0.48]\n",
      "|   |   |   |   |   |   |--- dbytes >  -0.06\n",
      "|   |   |   |   |   |   |   |--- value: [0.73]\n",
      "|   |   |   |   |--- sload >  -0.38\n",
      "|   |   |   |   |   |--- dpkts <= -0.07\n",
      "|   |   |   |   |   |   |--- value: [0.81]\n",
      "|   |   |   |   |   |--- dpkts >  -0.07\n",
      "|   |   |   |   |   |   |--- value: [0.50]\n",
      "|   |--- proto_chaos >  0.30\n",
      "|   |   |--- value: [0.26]\n",
      "|--- service_ftp-data >  0.08\n",
      "|   |--- dpkts <= -0.12\n",
      "|   |   |--- value: [0.53]\n",
      "|   |--- dpkts >  -0.12\n",
      "|   |   |--- spkts <= -0.05\n",
      "|   |   |   |--- value: [0.04]\n",
      "|   |   |--- spkts >  -0.05\n",
      "|   |   |   |--- value: [0.10]\n",
      "\n"
     ]
    }
   ],
   "source": [
    "from sklearn.tree import export_text\n",
    "\n",
    "# Access individual trees from the trained Isolation Forest\n",
    "trees = iso_forest.estimators_\n",
    "\n",
    "# Example: print the structure of the first tree\n",
    "for i, tree in enumerate(trees):\n",
    "    print(f\"Tree {i}\")\n",
    "    try:\n",
    "        print(export_text(tree, feature_names=feature_names))\n",
    "    except ValueError as e:\n",
    "        print(f\"Error: {e}\")\n",
    "    break"
   ]
  },
  {
   "cell_type": "markdown",
   "id": "713a62d6-fd9d-4300-bab2-02e86a86caea",
   "metadata": {
    "id": "713a62d6-fd9d-4300-bab2-02e86a86caea"
   },
   "source": [
    "## One-Class SVM"
   ]
  },
  {
   "cell_type": "code",
   "execution_count": null,
   "id": "8b1c681e-f9ad-42d0-81b8-90bc8574d56f",
   "metadata": {
    "id": "8b1c681e-f9ad-42d0-81b8-90bc8574d56f",
    "outputId": "3924c43e-bbc3-4123-8cf9-6ad57e378c73"
   },
   "outputs": [],
   "source": [
    "# One-Class SVM\n",
    "oc_svm = OneClassSVM(kernel='rbf', degree=3, gamma='auto', coef0=0.0, tol=0.001, nu=0.5, shrinking=True, cache_size=200, verbose=False, max_iter=-1)\n",
    "oc_svm.fit(X_scaled)"
   ]
  },
  {
   "cell_type": "code",
   "execution_count": null,
   "id": "18cdc4af-7da8-489c-bf53-1f0432e1ed26",
   "metadata": {
    "id": "18cdc4af-7da8-489c-bf53-1f0432e1ed26"
   },
   "outputs": [],
   "source": [
    "# Predict anomalies and compare to ground truth\n",
    "y_pred_oc_svm = oc_svm.predict(X_scaled)\n",
    "y_pred_oc_svm = np.where(y_pred_oc_svm == 1, 0, 1)  # Convert to 0 (normal) and 1 (anomaly)"
   ]
  },
  {
   "cell_type": "code",
   "execution_count": null,
   "id": "c533edbd-71db-43f6-9e28-3295fd88df9e",
   "metadata": {
    "id": "c533edbd-71db-43f6-9e28-3295fd88df9e",
    "outputId": "7110e6f5-1f57-472c-c68b-73bba5a51915"
   },
   "outputs": [],
   "source": [
    "# Evaluate\n",
    "print(\"One-Class SVM\")\n",
    "print(classification_report(y, y_pred_oc_svm))"
   ]
  },
  {
   "cell_type": "markdown",
   "id": "80c7d48b-5ebb-4748-aac1-19f0ff1f2474",
   "metadata": {
    "id": "80c7d48b-5ebb-4748-aac1-19f0ff1f2474"
   },
   "source": [
    "## DBSCAN"
   ]
  },
  {
   "cell_type": "code",
   "execution_count": 167,
   "id": "1e23bc1a-ca5b-42f7-a741-8737e58db266",
   "metadata": {
    "id": "1e23bc1a-ca5b-42f7-a741-8737e58db266",
    "outputId": "76453734-286c-446d-a38f-e3de1a2f1a02"
   },
   "outputs": [
    {
     "name": "stdout",
     "output_type": "stream",
     "text": [
      "Requirement already satisfied: threadpoolctl==3.1.0 in c:\\programdata\\anaconda3\\lib\\site-packages (3.1.0)\n",
      "Note: you may need to restart the kernel to use updated packages.\n"
     ]
    }
   ],
   "source": [
    "pip install threadpoolctl==3.1.0"
   ]
  },
  {
   "cell_type": "code",
   "execution_count": 168,
   "id": "J1oJWZS8wfJC",
   "metadata": {
    "id": "J1oJWZS8wfJC"
   },
   "outputs": [],
   "source": [
    "# Take a random sample from the dataset\n",
    "sample_size = 50000\n",
    "data_sample = test_data.sample(n=sample_size, random_state=42)"
   ]
  },
  {
   "cell_type": "code",
   "execution_count": 169,
   "id": "caq1VpZhwnY-",
   "metadata": {
    "id": "caq1VpZhwnY-"
   },
   "outputs": [],
   "source": [
    "# Split features and target\n",
    "X_sample = data_sample.drop(columns='label')\n",
    "y_sample = data_sample['label']"
   ]
  },
  {
   "cell_type": "code",
   "execution_count": 170,
   "id": "IO7EC0j0wwvD",
   "metadata": {
    "id": "IO7EC0j0wwvD"
   },
   "outputs": [],
   "source": [
    "# Preprocess the data\n",
    "X_sample_scaled = preprocessor.fit_transform(X_sample)"
   ]
  },
  {
   "cell_type": "code",
   "execution_count": 171,
   "id": "85d66fe4-6b7b-45fa-ae93-281933a38afe",
   "metadata": {
    "id": "85d66fe4-6b7b-45fa-ae93-281933a38afe"
   },
   "outputs": [],
   "source": [
    "# DBSCAN\n",
    "dbscan = DBSCAN(eps=3, min_samples=5)"
   ]
  },
  {
   "cell_type": "code",
   "execution_count": 172,
   "id": "0288d401-86c3-4844-9084-e5f94e1b6fa1",
   "metadata": {
    "id": "0288d401-86c3-4844-9084-e5f94e1b6fa1"
   },
   "outputs": [],
   "source": [
    "# Compute clusters from data and predict labels\n",
    "y_pred_dbscan = dbscan.fit_predict(X_sample_scaled)"
   ]
  },
  {
   "cell_type": "code",
   "execution_count": 173,
   "id": "38e8c6a7-0a09-4913-8e86-25474da729d4",
   "metadata": {
    "id": "38e8c6a7-0a09-4913-8e86-25474da729d4"
   },
   "outputs": [],
   "source": [
    "# Convert to 0 (normal) and 1 (anomaly)\n",
    "y_pred_dbscan = np.where(y_pred_dbscan == -1, 1, 0)"
   ]
  },
  {
   "cell_type": "code",
   "execution_count": 174,
   "id": "fcd9421a-428f-4d3e-b23a-23a5d6f493b8",
   "metadata": {
    "colab": {
     "base_uri": "https://localhost:8080/"
    },
    "id": "fcd9421a-428f-4d3e-b23a-23a5d6f493b8",
    "outputId": "53820981-8f6b-40c3-a99a-2b278928e8c2"
   },
   "outputs": [
    {
     "name": "stdout",
     "output_type": "stream",
     "text": [
      "DBSCAN\n",
      "              precision    recall  f1-score   support\n",
      "\n",
      "           0       0.32      0.99      0.48     15953\n",
      "           1       0.67      0.01      0.01     34047\n",
      "\n",
      "    accuracy                           0.32     50000\n",
      "   macro avg       0.50      0.50      0.25     50000\n",
      "weighted avg       0.56      0.32      0.16     50000\n",
      "\n"
     ]
    }
   ],
   "source": [
    "# Evaluate\n",
    "print(\"DBSCAN\")\n",
    "print(classification_report(y_sample, y_pred_dbscan))"
   ]
  },
  {
   "cell_type": "markdown",
   "id": "b065c77a-a95b-4fb4-80f6-aab6868163f5",
   "metadata": {},
   "source": [
    "# LSTM for Sequential Patterns"
   ]
  },
  {
   "cell_type": "raw",
   "id": "70471049-9ae7-4f83-a4d2-71d4dcf256d3",
   "metadata": {},
   "source": [
    "An LSTM neural network enables you to input sequence data into a network, and make predictions based on the individual time steps of the sequence data."
   ]
  },
  {
   "cell_type": "code",
   "execution_count": 176,
   "id": "8c448702-0a1c-4fb9-9ee3-ffe8f6c3fb8e",
   "metadata": {},
   "outputs": [],
   "source": [
    "# Prepare the data for LSTM\n",
    "\n",
    "# Convert sparse matrices to dense arrays for reshaping\n",
    "X_train_dense = X_train_scaled.toarray()\n",
    "X_test_dense = X_test_scaled.toarray()\n",
    "\n",
    "# Reshape for LSTM\n",
    "X_train_lstm = np.reshape(X_train_dense, (X_train_dense.shape[0], 1, X_train_dense.shape[1]))\n",
    "X_test_lstm = np.reshape(X_test_dense, (X_test_dense.shape[0], 1, X_test_dense.shape[1]))"
   ]
  },
  {
   "cell_type": "code",
   "execution_count": 177,
   "id": "2181a474-2ca7-41db-b697-e629de03a0dc",
   "metadata": {},
   "outputs": [],
   "source": [
    "# Build the LSTM model\n",
    "model = Sequential()\n",
    "model.add(LSTM(50, activation='relu', input_shape=(X_train_lstm.shape[1], X_train_lstm.shape[2])))\n",
    "model.add(Dense(1, activation='sigmoid'))  # Using sigmoid for binary classification\n",
    "model.compile(optimizer='adam', loss='binary_crossentropy')"
   ]
  },
  {
   "cell_type": "code",
   "execution_count": 178,
   "id": "5f0da580-780c-464c-92e0-d0b9826e6fdc",
   "metadata": {},
   "outputs": [
    {
     "name": "stdout",
     "output_type": "stream",
     "text": [
      "Epoch 1/10\n",
      "1030/1030 [==============================] - 13s 8ms/step - loss: 0.0686 - val_loss: 0.0080\n",
      "Epoch 2/10\n",
      "1030/1030 [==============================] - 8s 7ms/step - loss: 5.1119e-04 - val_loss: 0.0014\n",
      "Epoch 3/10\n",
      "1030/1030 [==============================] - 8s 7ms/step - loss: 1.3275e-04 - val_loss: 5.6723e-04\n",
      "Epoch 4/10\n",
      "1030/1030 [==============================] - 8s 7ms/step - loss: 5.2739e-05 - val_loss: 2.6605e-04\n",
      "Epoch 5/10\n",
      "1030/1030 [==============================] - 8s 7ms/step - loss: 2.4505e-05 - val_loss: 1.3361e-04\n",
      "Epoch 6/10\n",
      "1030/1030 [==============================] - 7s 7ms/step - loss: 1.2316e-05 - val_loss: 7.3509e-05\n",
      "Epoch 7/10\n",
      "1030/1030 [==============================] - 8s 7ms/step - loss: 6.4660e-06 - val_loss: 3.9317e-05\n",
      "Epoch 8/10\n",
      "1030/1030 [==============================] - 8s 8ms/step - loss: 3.4793e-06 - val_loss: 2.4000e-05\n",
      "Epoch 9/10\n",
      "1030/1030 [==============================] - 8s 8ms/step - loss: 1.9087e-06 - val_loss: 1.4620e-05\n",
      "Epoch 10/10\n",
      "1030/1030 [==============================] - 8s 7ms/step - loss: 1.0611e-06 - val_loss: 8.3511e-06\n"
     ]
    }
   ],
   "source": [
    "# Train the model\n",
    "history = model.fit(X_train_lstm, y_train, epochs=10, batch_size=64, validation_split=0.2, verbose=1)"
   ]
  },
  {
   "cell_type": "code",
   "execution_count": 179,
   "id": "9b4df0d2-a1eb-4a0d-a45b-132c2a56dd76",
   "metadata": {},
   "outputs": [
    {
     "data": {
      "image/png": "[encoded data removed]",
      "text/plain": [
       "<Figure size 640x480 with 1 Axes>"
      ]
     },
     "metadata": {},
     "output_type": "display_data"
    }
   ],
   "source": [
    "# Plot training and validation loss\n",
    "plt.plot(history.history['loss'])\n",
    "plt.plot(history.history['val_loss'])\n",
    "plt.title('Model loss')\n",
    "plt.xlabel('Epoch')\n",
    "plt.ylabel('Loss')\n",
    "plt.legend(['train_loss','val_loss'])\n",
    "plt.show()"
   ]
  },
  {
   "cell_type": "code",
   "execution_count": 180,
   "id": "80f781c4-d0e3-498a-845c-3c89584e2598",
   "metadata": {},
   "outputs": [
    {
     "name": "stdout",
     "output_type": "stream",
     "text": [
      "5480/5480 [==============================] - 17s 3ms/step\n"
     ]
    }
   ],
   "source": [
    "# Predict and evaluate\n",
    "y_pred_lstm_prob = model.predict(X_test_lstm)\n",
    "y_pred_lstm = np.where(y_pred_lstm_prob > 0.5, 1, 0)"
   ]
  },
  {
   "cell_type": "code",
   "execution_count": 181,
   "id": "c8afe2e5-c204-43f4-9b53-77370edf3834",
   "metadata": {},
   "outputs": [
    {
     "name": "stdout",
     "output_type": "stream",
     "text": [
      "LSTM\n",
      "              precision    recall  f1-score   support\n",
      "\n",
      "           0       1.00      1.00      1.00     56000\n",
      "           1       1.00      1.00      1.00    119341\n",
      "\n",
      "    accuracy                           1.00    175341\n",
      "   macro avg       1.00      1.00      1.00    175341\n",
      "weighted avg       1.00      1.00      1.00    175341\n",
      "\n"
     ]
    }
   ],
   "source": [
    "print(\"LSTM\")\n",
    "print(classification_report(y_test, y_pred_lstm))"
   ]
  },
  {
   "cell_type": "code",
   "execution_count": 182,
   "id": "5ac48f79-a93c-4d8c-9e1c-36b3707c2771",
   "metadata": {},
   "outputs": [
    {
     "name": "stdout",
     "output_type": "stream",
     "text": [
      "Confusion Matrix\n",
      "[[ 55834    166]\n",
      " [     2 119339]]\n"
     ]
    }
   ],
   "source": [
    "# Confusion Matrix\n",
    "cm = confusion_matrix(y_test, y_pred_lstm)\n",
    "print(\"Confusion Matrix\")\n",
    "print(cm)"
   ]
  },
  {
   "cell_type": "code",
   "execution_count": 183,
   "id": "8c49ad66-74dd-4de3-a942-8852eed1ab06",
   "metadata": {},
   "outputs": [
    {
     "data": {
      "image/png": "[encoded data removed]",
      "text/plain": [
       "<Figure size 600x600 with 2 Axes>"
      ]
     },
     "metadata": {},
     "output_type": "display_data"
    }
   ],
   "source": [
    "treshold = 0.5\n",
    "plt.figure(figsize = (6,6))\n",
    "sns.heatmap(cm, annot = True, fmt = 'g')\n",
    "plt.title('Confusion Matrix - {}'.format(treshold))\n",
    "plt.xlabel('Predicted')\n",
    "plt.ylabel('Actual')\n",
    "plt.show()"
   ]
  },
  {
   "cell_type": "code",
   "execution_count": 184,
   "id": "081b2001-3710-4948-abcc-fb850f8b0201",
   "metadata": {},
   "outputs": [
    {
     "data": {
      "image/png": "[encoded data removed]",
      "text/plain": [
       "<Figure size 640x480 with 1 Axes>"
      ]
     },
     "metadata": {},
     "output_type": "display_data"
    }
   ],
   "source": [
    "# ROC Curve\n",
    "fpr, tpr, _ = roc_curve(y_test, y_pred_lstm_prob)\n",
    "roc_auc = auc(fpr, tpr)\n",
    "\n",
    "plt.figure()\n",
    "plt.plot(fpr, tpr, color='darkorange', lw=2, label='ROC curve (area = %0.2f)' % roc_auc)\n",
    "plt.plot([0, 1], [0, 1], color='navy', lw=2, linestyle='--')\n",
    "plt.xlim([0.0, 1.0])\n",
    "plt.ylim([0.0, 1.05])\n",
    "plt.xlabel('False Positive Rate')\n",
    "plt.ylabel('True Positive Rate')\n",
    "plt.title('Receiver Operating Characteristic')\n",
    "plt.legend(loc=\"lower right\")\n",
    "plt.show()"
   ]
  },
  {
   "cell_type": "markdown",
   "id": "275c863a-0797-468b-9c28-288f02202582",
   "metadata": {},
   "source": [
    "# Semi-Supervised Learning"
   ]
  },
  {
   "cell_type": "code",
   "execution_count": 185,
   "id": "d8480e89-9513-4160-83a9-834c142bdf01",
   "metadata": {},
   "outputs": [],
   "source": [
    "NUM_ITERATIONS = 5"
   ]
  },
  {
   "cell_type": "code",
   "execution_count": 186,
   "id": "861cf940-e991-411e-9828-dbf315a35e60",
   "metadata": {},
   "outputs": [],
   "source": [
    "# Initialize the model (using Isolation Forest)\n",
    "model = IsolationForest(contamination=0.1, random_state=42)"
   ]
  },
  {
   "cell_type": "code",
   "execution_count": 190,
   "id": "fee04675-aed0-4bf8-87cf-7f2641be39c7",
   "metadata": {},
   "outputs": [],
   "source": [
    "# Iterative training\n",
    "\n",
    "for _ in range(NUM_ITERATIONS):  # Number of iterations\n",
    "\n",
    "    X_train_scaled_csr = X_train_scaled.toarray() if isinstance(X_train_scaled, csr_matrix) else X_train_scaled\n",
    "    \n",
    "    model.fit(X_train_scaled_csr)\n",
    "    y_pred = model.predict(X_train_scaled_csr)\n",
    "    high_confidence = np.where(y_pred == 1, True, False)\n",
    "    \n",
    "    # Add high-confidence predictions to the training set\n",
    "    X_train_scaled_csr = np.concatenate([X_train_scaled_csr, X_train_scaled_csr[high_confidence]], axis=0)\n",
    "    y_train = np.concatenate([y_train, y_pred[high_confidence]], axis=0)"
   ]
  },
  {
   "cell_type": "code",
   "execution_count": 191,
   "id": "d227495b-4b86-4860-9dc2-439962415906",
   "metadata": {},
   "outputs": [],
   "source": [
    "# Final prediction on test set\n",
    "y_pred = model.predict(X_test_scaled)\n",
    "y_pred = np.where(y_pred == 1, 0, 1)  # Convert to 0 (normal) and 1 (anomaly)"
   ]
  },
  {
   "cell_type": "code",
   "execution_count": 192,
   "id": "9b85385e-05f3-49c0-97e5-698b3f68b115",
   "metadata": {},
   "outputs": [
    {
     "name": "stdout",
     "output_type": "stream",
     "text": [
      "Semi-Supervised Learning\n",
      "              precision    recall  f1-score   support\n",
      "\n",
      "           0       0.31      0.84      0.45     56000\n",
      "           1       0.58      0.10      0.17    119341\n",
      "\n",
      "    accuracy                           0.34    175341\n",
      "   macro avg       0.44      0.47      0.31    175341\n",
      "weighted avg       0.49      0.34      0.26    175341\n",
      "\n"
     ]
    }
   ],
   "source": [
    "# Evaluate\n",
    "print(\"Semi-Supervised Learning\")\n",
    "print(classification_report(y_test, y_pred))"
   ]
  },
  {
   "cell_type": "code",
   "execution_count": null,
   "id": "6623653a-385f-4a97-83fd-a0e3a3effe79",
   "metadata": {},
   "outputs": [],
   "source": []
  }
 ],
 "metadata": {
  "colab": {
   "provenance": []
  },
  "kernelspec": {
   "display_name": "Python 3 (ipykernel)",
   "language": "python",
   "name": "python3"
  },
  "language_info": {
   "codemirror_mode": {
    "name": "ipython",
    "version": 3
   },
   "file_extension": ".py",
   "mimetype": "text/x-python",
   "name": "python",
   "nbconvert_exporter": "python",
   "pygments_lexer": "ipython3",
   "version": "3.8.18"
  }
 },
 "nbformat": 4,
 "nbformat_minor": 5
}
